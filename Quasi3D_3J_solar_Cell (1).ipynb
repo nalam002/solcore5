{
 "cells": [
  {
   "cell_type": "code",
   "execution_count": 1,
   "metadata": {},
   "outputs": [],
   "source": [
    "import numpy as np\n",
    "import matplotlib.pyplot as plt"
   ]
  },
  {
   "cell_type": "code",
   "execution_count": 2,
   "metadata": {},
   "outputs": [
    {
     "name": "stdout",
     "output_type": "stream",
     "text": [
      "WARNING: The RCWA solver will not be available because an S4 installation has not been found.\n"
     ]
    }
   ],
   "source": [
    "from solcore.structure import Junction\n",
    "from solcore.solar_cell import SolarCell\n",
    "from solcore.light_source import LightSource\n",
    "from solcore.spice import solve_quasi_3D\n",
    "config.smarts(r'/home/jovyan/smarts')\n",
    "config.spice(r'/home/jovyan/S4')"
   ]
  },
  {
   "cell_type": "markdown",
   "metadata": {},
   "source": [
    "First we load the masks defining the illumination pattern and the contacts. Both must be greyscale images<br>\n",
    "The solver expect images with values between 0 and 255 and imread of a PNG image is between 0 and 1, even when<br>\n",
    "it is in grey, so we scale it multiplying by 255. If the image were JPG, the result would be already in (0,255)."
   ]
  },
  {
   "cell_type": "code",
   "execution_count": 3,
   "metadata": {},
   "outputs": [
    {
     "name": "stderr",
     "output_type": "stream",
     "text": [
      "/srv/conda/envs/notebook/lib/python3.7/site-packages/ipykernel_launcher.py:1: DeprecationWarning: `np.int` is a deprecated alias for the builtin `int`. To silence this warning, use `int` by itself. Doing this will not modify any behavior and is safe. When replacing `np.int`, you may wish to use e.g. `np.int64` or `np.int32` to specify the precision. If you wish to review your current use, check the release note link for additional information.\n",
      "Deprecated in NumPy 1.20; for more details and guidance: https://numpy.org/devdocs/release/1.20.0-notes.html#deprecations\n",
      "  \"\"\"Entry point for launching an IPython kernel.\n",
      "/srv/conda/envs/notebook/lib/python3.7/site-packages/ipykernel_launcher.py:2: DeprecationWarning: `np.int` is a deprecated alias for the builtin `int`. To silence this warning, use `int` by itself. Doing this will not modify any behavior and is safe. When replacing `np.int`, you may wish to use e.g. `np.int64` or `np.int32` to specify the precision. If you wish to review your current use, check the release note link for additional information.\n",
      "Deprecated in NumPy 1.20; for more details and guidance: https://numpy.org/devdocs/release/1.20.0-notes.html#deprecations\n",
      "  \n"
     ]
    }
   ],
   "source": [
    "illuminationMask = (plt.imread('../data/masks_illumination.png') * 255).astype(np.int)\n",
    "contactsMask = (plt.imread('../data/masks_sq.png') * 255).astype(np.int)"
   ]
  },
  {
   "cell_type": "code",
   "execution_count": 4,
   "metadata": {},
   "outputs": [],
   "source": [
    "nx, ny = illuminationMask.shape"
   ]
  },
  {
   "cell_type": "markdown",
   "metadata": {},
   "source": [
    "For symmetry arguments (not completely true for the illumination), we can mode just 1/4 of the device and then<br>\n",
    "multiply the current by 4"
   ]
  },
  {
   "cell_type": "code",
   "execution_count": 5,
   "metadata": {},
   "outputs": [],
   "source": [
    "illuminationMask = illuminationMask[int(nx / 2):, int(ny / 2):]\n",
    "contactsMask = contactsMask[int(nx / 2):, int(ny / 2):]"
   ]
  },
  {
   "cell_type": "markdown",
   "metadata": {},
   "source": [
    "Size of the pixels (m)"
   ]
  },
  {
   "cell_type": "code",
   "execution_count": 6,
   "metadata": {},
   "outputs": [],
   "source": [
    "Lx = 10e-6\n",
    "Ly = 10e-6"
   ]
  },
  {
   "cell_type": "markdown",
   "metadata": {},
   "source": [
    "Height of the metal fingers (m)"
   ]
  },
  {
   "cell_type": "code",
   "execution_count": 7,
   "metadata": {},
   "outputs": [],
   "source": [
    "h = 2.2e-6"
   ]
  },
  {
   "cell_type": "markdown",
   "metadata": {},
   "source": [
    "Contact resistance (Ohm m2)"
   ]
  },
  {
   "cell_type": "code",
   "execution_count": 8,
   "metadata": {},
   "outputs": [],
   "source": [
    "Rcontact = 3e-10"
   ]
  },
  {
   "cell_type": "markdown",
   "metadata": {},
   "source": [
    "Resistivity metal fingers (Ohm m)"
   ]
  },
  {
   "cell_type": "code",
   "execution_count": 9,
   "metadata": {},
   "outputs": [],
   "source": [
    "Rline = 2e-8"
   ]
  },
  {
   "cell_type": "markdown",
   "metadata": {},
   "source": [
    "Bias (V)"
   ]
  },
  {
   "cell_type": "code",
   "execution_count": 10,
   "metadata": {},
   "outputs": [],
   "source": [
    "vini = 0\n",
    "vfin = 1.3\n",
    "step = 0.01"
   ]
  },
  {
   "cell_type": "code",
   "execution_count": 11,
   "metadata": {},
   "outputs": [],
   "source": [
    "T = 298\n",
    "db_junction = Junction(kind='2D', T=T, reff=1, jref=300, Eg=0.66, A=1, R_sheet_top=100, R_sheet_bot=1e-16,\n",
    "                       R_shunt=1e16, n=3.5)\n",
    "db_junction2 = Junction(kind='2D', T=T, reff=1, jref=300, Eg=1.4, A=1, R_sheet_top=100, R_sheet_bot=1e-16,\n",
    "                        R_shunt=1e16, n=3.5)\n",
    "db_junction3 = Junction(kind='2D', T=T, reff=0.5, jref=300, Eg=1.8, A=1, R_sheet_top=100, R_sheet_bot=100,\n",
    "                        R_shunt=1e16, n=3.5)"
   ]
  },
  {
   "cell_type": "markdown",
   "metadata": {},
   "source": [
    "For a single junction, this will have >28800 nodes and for the full 3J it will be >86400, so it is worth to<br>\n",
    "exploit symmetries whenever possible. A smaller number of nodes also makes the solver more robust."
   ]
  },
  {
   "cell_type": "code",
   "execution_count": 12,
   "metadata": {},
   "outputs": [],
   "source": [
    "my_solar_cell = SolarCell([db_junction2], T=T)"
   ]
  },
  {
   "cell_type": "code",
   "execution_count": 13,
   "metadata": {},
   "outputs": [],
   "source": [
    "wl = np.linspace(350, 2000, 301) * 1e-9\n",
    "light_source = LightSource(source_type='standard', version='AM1.5g', x=wl, output_units='photon_flux_per_m',\n",
    "                           concentration=100)"
   ]
  },
  {
   "cell_type": "code",
   "execution_count": 14,
   "metadata": {},
   "outputs": [],
   "source": [
    "options = {'light_iv': True, 'wavelength': wl, 'light_source': light_source, 'optics_method': 'BL'}"
   ]
  },
  {
   "cell_type": "code",
   "execution_count": 15,
   "metadata": {},
   "outputs": [
    {
     "name": "stdout",
     "output_type": "stream",
     "text": [
      "Solving 1D Solar Cell...\n",
      "Solving optics of the solar cell...\n",
      "Solving IV of the junctions...\n",
      "Solving IV of the tunnel junctions...\n",
      "Solving IV of the total solar cell...\n",
      "... Done!\n",
      "\n",
      "Solving quasi-3D Solar Cell...\n"
     ]
    },
    {
     "ename": "SpiceSolverError",
     "evalue": "Spice solver not found.",
     "output_type": "error",
     "traceback": [
      "\u001b[0;31m---------------------------------------------------------------------------\u001b[0m",
      "\u001b[0;31mSpiceSolverError\u001b[0m                          Traceback (most recent call last)",
      "\u001b[0;32m<ipython-input-15-7a8188186deb>\u001b[0m in \u001b[0;36m<module>\u001b[0;34m\u001b[0m\n\u001b[1;32m      1\u001b[0m V, I, Vall, Vmet = solve_quasi_3D(my_solar_cell, illuminationMask, contactsMask, options=options, Lx=Lx, Ly=Ly, h=h,\n\u001b[1;32m      2\u001b[0m                                   \u001b[0mR_back\u001b[0m\u001b[0;34m=\u001b[0m\u001b[0;36m1e-16\u001b[0m\u001b[0;34m,\u001b[0m \u001b[0mR_contact\u001b[0m\u001b[0;34m=\u001b[0m\u001b[0mRcontact\u001b[0m\u001b[0;34m,\u001b[0m \u001b[0mR_line\u001b[0m\u001b[0;34m=\u001b[0m\u001b[0mRline\u001b[0m\u001b[0;34m,\u001b[0m \u001b[0mbias_start\u001b[0m\u001b[0;34m=\u001b[0m\u001b[0mvini\u001b[0m\u001b[0;34m,\u001b[0m \u001b[0mbias_end\u001b[0m\u001b[0;34m=\u001b[0m\u001b[0mvfin\u001b[0m\u001b[0;34m,\u001b[0m\u001b[0;34m\u001b[0m\u001b[0;34m\u001b[0m\u001b[0m\n\u001b[0;32m----> 3\u001b[0;31m                                   bias_step=step)\n\u001b[0m",
      "\u001b[0;32m~/solcore/spice/quasi_3D_solver.py\u001b[0m in \u001b[0;36msolve_quasi_3D\u001b[0;34m(solar_cell, injection, contacts, options, Lx, Ly, h, R_back, R_contact, R_line, bias_start, bias_end, bias_step)\u001b[0m\n\u001b[1;32m     74\u001b[0m     V, I, Vall, Vmet = solve_circuit_quasi3D(bias_start, bias_end, bias_step, Isc_array, I01_array, I02_array, n1_array,\n\u001b[1;32m     75\u001b[0m                                              \u001b[0mn2_array\u001b[0m\u001b[0;34m,\u001b[0m \u001b[0mEg_array\u001b[0m\u001b[0;34m,\u001b[0m \u001b[0mrsh_array\u001b[0m\u001b[0;34m,\u001b[0m \u001b[0mrseries_array\u001b[0m\u001b[0;34m,\u001b[0m \u001b[0minjection\u001b[0m\u001b[0;34m,\u001b[0m \u001b[0mcontacts\u001b[0m\u001b[0;34m,\u001b[0m\u001b[0;34m\u001b[0m\u001b[0;34m\u001b[0m\u001b[0m\n\u001b[0;32m---> 76\u001b[0;31m                                              rshTop_array, rshBot_array, R_line / h, R_contact, Lx, Ly)\n\u001b[0m\u001b[1;32m     77\u001b[0m     \u001b[0mprint\u001b[0m\u001b[0;34m(\u001b[0m\u001b[0;34m\"... Done!!\"\u001b[0m\u001b[0;34m)\u001b[0m\u001b[0;34m\u001b[0m\u001b[0;34m\u001b[0m\u001b[0m\n\u001b[1;32m     78\u001b[0m     \u001b[0;32mreturn\u001b[0m \u001b[0mV\u001b[0m\u001b[0;34m,\u001b[0m \u001b[0mI\u001b[0m\u001b[0;34m,\u001b[0m \u001b[0mVall\u001b[0m\u001b[0;34m,\u001b[0m \u001b[0mVmet\u001b[0m\u001b[0;34m\u001b[0m\u001b[0;34m\u001b[0m\u001b[0m\n",
      "\u001b[0;32m~/solcore/spice/quasi_3D_solver.py\u001b[0m in \u001b[0;36msolve_circuit_quasi3D\u001b[0;34m(vini, vfin, step, Isc, I01, I02, n1, n2, Eg, Rshunt, Rseries, injection, contacts, RsTop, RsBot, Rline, Rcontact, Lx, Ly)\u001b[0m\n\u001b[1;32m    288\u001b[0m     \u001b[0;31m# We combine the different bits to create the SPICE input file\u001b[0m\u001b[0;34m\u001b[0m\u001b[0;34m\u001b[0m\u001b[0;34m\u001b[0m\u001b[0m\n\u001b[1;32m    289\u001b[0m     \u001b[0mSPICEcommand\u001b[0m \u001b[0;34m=\u001b[0m \u001b[0mSPICEheader\u001b[0m \u001b[0;34m+\u001b[0m \u001b[0mSPICEbody\u001b[0m \u001b[0;34m+\u001b[0m \u001b[0mSPICEexec\u001b[0m \u001b[0;34m+\u001b[0m \u001b[0mSPICEfooter\u001b[0m\u001b[0;34m\u001b[0m\u001b[0;34m\u001b[0m\u001b[0m\n\u001b[0;32m--> 290\u001b[0;31m     \u001b[0mraw_results\u001b[0m \u001b[0;34m=\u001b[0m \u001b[0msolve_circuit\u001b[0m\u001b[0;34m(\u001b[0m\u001b[0mSPICEcommand\u001b[0m\u001b[0;34m)\u001b[0m\u001b[0;34m\u001b[0m\u001b[0;34m\u001b[0m\u001b[0m\n\u001b[0m\u001b[1;32m    291\u001b[0m \u001b[0;34m\u001b[0m\u001b[0m\n\u001b[1;32m    292\u001b[0m     \u001b[0;31m# The raw results are are a very long chunk of text. We have to clean it and pick just the info we want,\u001b[0m\u001b[0;34m\u001b[0m\u001b[0;34m\u001b[0m\u001b[0;34m\u001b[0m\u001b[0m\n",
      "\u001b[0;32m~/solcore/spice/spice.py\u001b[0m in \u001b[0;36msolve_circuit\u001b[0;34m(spice_file_contents, engine, raw)\u001b[0m\n\u001b[1;32m     36\u001b[0m     \u001b[0mspice\u001b[0m\u001b[0;34m.\u001b[0m\u001b[0mengine\u001b[0m \u001b[0;34m=\u001b[0m \u001b[0mengine\u001b[0m\u001b[0;34m\u001b[0m\u001b[0;34m\u001b[0m\u001b[0m\n\u001b[1;32m     37\u001b[0m     \u001b[0;32mif\u001b[0m \u001b[0;32mnot\u001b[0m \u001b[0mspice\u001b[0m\u001b[0;34m.\u001b[0m\u001b[0mengine\u001b[0m\u001b[0;34m:\u001b[0m\u001b[0;34m\u001b[0m\u001b[0;34m\u001b[0m\u001b[0m\n\u001b[0;32m---> 38\u001b[0;31m         \u001b[0;32mraise\u001b[0m \u001b[0mSpiceSolverError\u001b[0m\u001b[0;34m(\u001b[0m\u001b[0;34m\"Spice solver not found.\"\u001b[0m\u001b[0;34m)\u001b[0m\u001b[0;34m\u001b[0m\u001b[0;34m\u001b[0m\u001b[0m\n\u001b[0m\u001b[1;32m     39\u001b[0m \u001b[0;34m\u001b[0m\u001b[0m\n\u001b[1;32m     40\u001b[0m     \u001b[0;32mwith\u001b[0m \u001b[0mtempfile\u001b[0m\u001b[0;34m.\u001b[0m\u001b[0mTemporaryDirectory\u001b[0m\u001b[0;34m(\u001b[0m\u001b[0mprefix\u001b[0m\u001b[0;34m=\u001b[0m\u001b[0;34m\"tmp\"\u001b[0m\u001b[0;34m,\u001b[0m \u001b[0msuffix\u001b[0m\u001b[0;34m=\u001b[0m\u001b[0;34m\"_sc3NGSPICE\"\u001b[0m\u001b[0;34m)\u001b[0m \u001b[0;32mas\u001b[0m \u001b[0mworking_directory\u001b[0m\u001b[0;34m:\u001b[0m\u001b[0;34m\u001b[0m\u001b[0;34m\u001b[0m\u001b[0m\n",
      "\u001b[0;31mSpiceSolverError\u001b[0m: Spice solver not found."
     ]
    }
   ],
   "source": [
    "V, I, Vall, Vmet = solve_quasi_3D(my_solar_cell, illuminationMask, contactsMask, options=options, Lx=Lx, Ly=Ly, h=h,\n",
    "                                  R_back=1e-16, R_contact=Rcontact, R_line=Rline, bias_start=vini, bias_end=vfin,\n",
    "                                  bias_step=step)"
   ]
  },
  {
   "cell_type": "markdown",
   "metadata": {},
   "source": [
    "Since we model 1/4 of the device, we multiply the current by 4"
   ]
  },
  {
   "cell_type": "code",
   "execution_count": 16,
   "metadata": {},
   "outputs": [
    {
     "name": "stdout",
     "output_type": "stream",
     "text": [
      "/home/jovyan/examples/notebooks\n",
      "<bound method SolcoreConfig.spice of [Configuration]\n",
      "version = 5.7.2\n",
      "welcome_message = 1\n",
      "verbose_loading = 1\n",
      "\n",
      "[Units]\n",
      "default = SOLCORE_ROOT/units_system/Default_units.txt\n",
      "\n",
      "[Parameters]\n",
      "calculables = SOLCORE_ROOT/parameter_system/calculable_parameters.txt\n",
      "adachi_binaries = SOLCORE_ROOT/material_data/Adachi/binaries.txt\n",
      "adachi_compounds = SOLCORE_ROOT/material_data/Adachi/ternaries.txt\n",
      "vurgaftman_binaries = SOLCORE_ROOT/material_data/Vurgaftman/binaries.txt\n",
      "vurgaftman_compounds = SOLCORE_ROOT/material_data/Vurgaftman/ternaries.txt\n",
      "levinshtein_groupIV = SOLCORE_ROOT/material_data/Levinshtein/GroupIV.txt\n",
      "\n",
      "[Materials]\n",
      "GaAs = SOLCORE_ROOT/material_data/GaAs-Material\n",
      "InSb = SOLCORE_ROOT/material_data/InSb-Material\n",
      "GaSb = SOLCORE_ROOT/material_data/GaSb-Material\n",
      "AlAs = SOLCORE_ROOT/material_data/AlAs-Material\n",
      "AlGaAs = SOLCORE_ROOT/material_data/AlGaAs-Material\n",
      "InGaAs = SOLCORE_ROOT/material_data/InGaAs-Material\n",
      "GaInSb = SOLCORE_ROOT/material_data/InGaSb-Material\n",
      "Ge = SOLCORE_ROOT/material_data/Ge-Material\n",
      "Si = SOLCORE_ROOT/material_data/Si-Material\n",
      "GaInP = SOLCORE_ROOT/material_data/GaInP-Material\n",
      "GaAsP = SOLCORE_ROOT/material_data/GaAsP-Material\n",
      "AlInP = SOLCORE_ROOT/material_data/AlInP-Material\n",
      "\n",
      "[Others]\n",
      "sopra = SOLCORE_ROOT/material_data/SOPRA_DB\n",
      "\n",
      "[External programs]\n",
      "spice = \n",
      "smarts = \n",
      "\n",
      ">\n"
     ]
    }
   ],
   "source": [
    "import os\n",
    "from solcore import config\n",
    "print(os.getcwd())\n"
   ]
  },
  {
   "cell_type": "code",
   "execution_count": null,
   "metadata": {},
   "outputs": [],
   "source": [
    "I = I * 4"
   ]
  },
  {
   "cell_type": "code",
   "execution_count": null,
   "metadata": {},
   "outputs": [],
   "source": [
    "plt.figure(1)\n",
    "plt.imshow(Vall[:, :, -2, -1])\n",
    "\n",
    "plt.figure(2)\n",
    "plt.semilogy(V, abs(I))\n",
    "plt.show()"
   ]
  }
 ],
 "metadata": {
  "kernelspec": {
   "display_name": "Python 3",
   "language": "python",
   "name": "python3"
  },
  "language_info": {
   "codemirror_mode": {
    "name": "ipython",
    "version": 3
   },
   "file_extension": ".py",
   "mimetype": "text/x-python",
   "name": "python",
   "nbconvert_exporter": "python",
   "pygments_lexer": "ipython3",
   "version": "3.7.10"
  }
 },
 "nbformat": 4,
 "nbformat_minor": 4
}
